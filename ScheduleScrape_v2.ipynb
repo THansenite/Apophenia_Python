{
  "nbformat": 4,
  "nbformat_minor": 0,
  "metadata": {
    "colab": {
      "name": "ScheduleScrape_v2.ipynb",
      "provenance": [],
      "include_colab_link": true
    },
    "kernelspec": {
      "name": "python3",
      "display_name": "Python 3"
    }
  },
  "cells": [
    {
      "cell_type": "markdown",
      "metadata": {
        "id": "view-in-github",
        "colab_type": "text"
      },
      "source": [
        "<a href=\"https://colab.research.google.com/github/THansenite/Apophenia_Python/blob/master/ScheduleScrape_v2.ipynb\" target=\"_parent\"><img src=\"https://colab.research.google.com/assets/colab-badge.svg\" alt=\"Open In Colab\"/></a>"
      ]
    },
    {
      "cell_type": "code",
      "metadata": {
        "id": "Qys51r7Jj9cq",
        "colab_type": "code",
        "outputId": "bef992fc-0dc7-443c-cde5-7fa7e2d05170",
        "colab": {
          "base_uri": "https://localhost:8080/",
          "height": 119
        }
      },
      "source": [
        "!pip install BeautifulSoup4\n",
        "!pip install requests"
      ],
      "execution_count": 1,
      "outputs": [
        {
          "output_type": "stream",
          "text": [
            "Requirement already satisfied: BeautifulSoup4 in /usr/local/lib/python3.6/dist-packages (4.6.3)\n",
            "Requirement already satisfied: requests in /usr/local/lib/python3.6/dist-packages (2.21.0)\n",
            "Requirement already satisfied: idna<2.9,>=2.5 in /usr/local/lib/python3.6/dist-packages (from requests) (2.8)\n",
            "Requirement already satisfied: chardet<3.1.0,>=3.0.2 in /usr/local/lib/python3.6/dist-packages (from requests) (3.0.4)\n",
            "Requirement already satisfied: urllib3<1.25,>=1.21.1 in /usr/local/lib/python3.6/dist-packages (from requests) (1.24.3)\n",
            "Requirement already satisfied: certifi>=2017.4.17 in /usr/local/lib/python3.6/dist-packages (from requests) (2019.11.28)\n"
          ],
          "name": "stdout"
        }
      ]
    },
    {
      "cell_type": "code",
      "metadata": {
        "id": "ZJlRJQubkJTq",
        "colab_type": "code",
        "colab": {}
      },
      "source": [
        "import bs4\n",
        "import requests\n",
        "\n",
        "res = requests.get('https://www.dmyha.com/schedule/league_instance/99610')\n",
        "soup = bs4.BeautifulSoup(res.text, 'html.parser')\n",
        "\n",
        "gameAnchors = soup.findAll(\"tr\", {\"class\": \"compactGameList\"})\n",
        "\n",
        "\n",
        "\n",
        "#for game in gameAnchors:\n",
        "#  print(game.get('href'))"
      ],
      "execution_count": 0,
      "outputs": []
    },
    {
      "cell_type": "code",
      "metadata": {
        "id": "AFZUyt-zytv1",
        "colab_type": "code",
        "colab": {}
      },
      "source": [
        "class Schedule(object):\n",
        "    gameId = None\n",
        "    date = None\n",
        "    practice = False\n",
        "    homeTeam = None\n",
        "    homeScore = None\n",
        "    awayTeam = None\n",
        "    awayScore = None\n",
        "    final = False\n"
      ],
      "execution_count": 0,
      "outputs": []
    },
    {
      "cell_type": "code",
      "metadata": {
        "id": "sqq4WKfUhFSv",
        "colab_type": "code",
        "colab": {}
      },
      "source": [
        "#len(gameAnchors) #182\n",
        "# This section sets class values\n",
        "singleGame = gameAnchors[25]\n",
        "\n",
        "\n",
        "teams = singleGame.findAll(\"a\", {\"class\": \"teamName\"})\n",
        "Schedule.awayTeam = teams[0].get_text()\n",
        "Schedule.homeTeam = teams[1].get_text()\n",
        "\n",
        "dateChunk = singleGame.find_all(\"td\", {\"class\": \"nowrap\"})\n",
        "Schedule.date = ''.join(e for e in dateChunk[1].get_text() if e.isalnum())\n",
        "\n",
        "tds = singleGame.find_all(\"td\")\n",
        "Schedule.awayScore = ''.join(e for e in tds[3].get_text() if e.isalnum())\n",
        "Schedule.homeScore = ''.join(e for e in tds[5].get_text() if e.isalnum())\n",
        "\n",
        "#Schedule.gameId\n",
        "#Schedule.practice\n",
        "#Schedule.final"
      ],
      "execution_count": 0,
      "outputs": []
    },
    {
      "cell_type": "code",
      "metadata": {
        "id": "HI1J7sAW3Plu",
        "colab_type": "code",
        "colab": {}
      },
      "source": [
        "#TEST AREA\n",
        "\n",
        "finalId = singleGame.find(\"a\", {\"class\": \"game_link_referrer\"})\n",
        "#img = finalId('img', alt=True)\n",
        "\n",
        "\n",
        "for a in finalId.find_all('a', href=True):\n",
        "    a"
      ],
      "execution_count": 0,
      "outputs": []
    },
    {
      "cell_type": "code",
      "metadata": {
        "id": "vTLFeyikzceI",
        "colab_type": "code",
        "colab": {
          "base_uri": "https://localhost:8080/",
          "height": 221
        },
        "outputId": "8ce32d29-c881-42a4-e479-134fdaa5efa8"
      },
      "source": [
        "#Schedule.homeTeam\n",
        "vars(Schedule)"
      ],
      "execution_count": 89,
      "outputs": [
        {
          "output_type": "execute_result",
          "data": {
            "text/plain": [
              "mappingproxy({'__dict__': <attribute '__dict__' of 'Schedule' objects>,\n",
              "              '__doc__': None,\n",
              "              '__module__': '__main__',\n",
              "              '__weakref__': <attribute '__weakref__' of 'Schedule' objects>,\n",
              "              'awayScore': '1',\n",
              "              'awayTeam': 'Voodoo',\n",
              "              'date': 'SunOct27',\n",
              "              'final': False,\n",
              "              'gameId': None,\n",
              "              'homeScore': '3',\n",
              "              'homeTeam': 'Wild Goose',\n",
              "              'practice': False})"
            ]
          },
          "metadata": {
            "tags": []
          },
          "execution_count": 89
        }
      ]
    }
  ]
}