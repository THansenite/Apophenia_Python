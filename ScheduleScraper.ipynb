{
  "nbformat": 4,
  "nbformat_minor": 0,
  "metadata": {
    "colab": {
      "name": "ScheduleScraper",
      "version": "0.3.2",
      "provenance": [],
      "collapsed_sections": [],
      "toc_visible": true
    },
    "kernelspec": {
      "display_name": "Python 3",
      "name": "python3"
    }
  },
  "cells": [
    {
      "metadata": {
        "id": "RHS7Z0TGTe7U",
        "colab_type": "code",
        "outputId": "5ab23957-0b57-4b48-b305-f35bf3ce1c9f",
        "colab": {
          "base_uri": "https://localhost:8080/",
          "height": 119
        }
      },
      "cell_type": "code",
      "source": [
        "!pip install BeautifulSoup4\n",
        "!pip install requests"
      ],
      "execution_count": 1,
      "outputs": [
        {
          "output_type": "stream",
          "text": [
            "Requirement already satisfied: BeautifulSoup4 in /usr/local/lib/python3.6/dist-packages (4.6.3)\n",
            "Requirement already satisfied: requests in /usr/local/lib/python3.6/dist-packages (2.18.4)\n",
            "Requirement already satisfied: certifi>=2017.4.17 in /usr/local/lib/python3.6/dist-packages (from requests) (2018.11.29)\n",
            "Requirement already satisfied: urllib3<1.23,>=1.21.1 in /usr/local/lib/python3.6/dist-packages (from requests) (1.22)\n",
            "Requirement already satisfied: chardet<3.1.0,>=3.0.2 in /usr/local/lib/python3.6/dist-packages (from requests) (3.0.4)\n",
            "Requirement already satisfied: idna<2.7,>=2.5 in /usr/local/lib/python3.6/dist-packages (from requests) (2.6)\n"
          ],
          "name": "stdout"
        }
      ]
    },
    {
      "metadata": {
        "id": "t1h4QmiaTrWG",
        "colab_type": "code",
        "outputId": "00e849ba-d405-48c5-8431-e64fe63aaae1",
        "colab": {
          "base_uri": "https://localhost:8080/",
          "height": 34
        }
      },
      "cell_type": "code",
      "source": [
        "import bs4\n",
        "import requests\n",
        "\n",
        "res = requests.get('https://dmyha.pucksystems2.com/schedule/day/league_instance/78964?subseason=545898')\n",
        "res.raise_for_status()\n",
        "soup = bs4.BeautifulSoup(res.text)\n",
        "\n",
        "scheduleWeeks = soup.findAll(\"a\", {\"class\": \"game\"})\n",
        "\n",
        "# scheduleWeeks\n",
        "scheduleUrls = []\n",
        "for week in scheduleWeeks:\n",
        "  scheduleUrls.append(week.get('href'))\n",
        "  \n",
        "print('Number of Weeks in Schedule: ' + str(len(scheduleUrls)))"
      ],
      "execution_count": 2,
      "outputs": [
        {
          "output_type": "stream",
          "text": [
            "Number of Weeks in Schedule: 25\n"
          ],
          "name": "stdout"
        }
      ]
    },
    {
      "metadata": {
        "id": "SQIRQ1MwfyQI",
        "colab_type": "code",
        "outputId": "973b9eb5-e919-4142-a84f-7eeae286d6c9",
        "colab": {
          "base_uri": "https://localhost:8080/",
          "height": 442
        }
      },
      "cell_type": "code",
      "source": [
        "# scheduleURLs\n",
        "fullUrl = \"\"\n",
        "\n",
        "for week in scheduleUrls:\n",
        "  fullUrl = \"https://dmyha.pucksystems2.com\" + week\n",
        "  print(fullUrl)\n"
      ],
      "execution_count": 3,
      "outputs": [
        {
          "output_type": "stream",
          "text": [
            "https://dmyha.pucksystems2.com/schedule/day/league_instance/78964/2018/9/30?subseason=545898\n",
            "https://dmyha.pucksystems2.com/schedule/day/league_instance/78964/2018/10/7?subseason=545898\n",
            "https://dmyha.pucksystems2.com/schedule/day/league_instance/78964/2018/10/14?subseason=545898\n",
            "https://dmyha.pucksystems2.com/schedule/day/league_instance/78964/2018/10/21?subseason=545898\n",
            "https://dmyha.pucksystems2.com/schedule/day/league_instance/78964/2018/10/28?subseason=545898\n",
            "https://dmyha.pucksystems2.com/schedule/day/league_instance/78964/2018/11/11?subseason=545898\n",
            "https://dmyha.pucksystems2.com/schedule/day/league_instance/78964/2018/11/18?subseason=545898\n",
            "https://dmyha.pucksystems2.com/schedule/day/league_instance/78964/2018/11/25?subseason=545898\n",
            "https://dmyha.pucksystems2.com/schedule/day/league_instance/78964/2018/12/2?subseason=545898\n",
            "https://dmyha.pucksystems2.com/schedule/day/league_instance/78964/2018/12/9?subseason=545898\n",
            "https://dmyha.pucksystems2.com/schedule/day/league_instance/78964/2018/12/16?subseason=545898\n",
            "https://dmyha.pucksystems2.com/schedule/day/league_instance/78964/2019/1/6?subseason=545898\n",
            "https://dmyha.pucksystems2.com/schedule/day/league_instance/78964/2019/1/13?subseason=545898\n",
            "https://dmyha.pucksystems2.com/schedule/day/league_instance/78964/2019/1/20?subseason=545898\n",
            "https://dmyha.pucksystems2.com/schedule/day/league_instance/78964/2019/1/27?subseason=545898\n",
            "https://dmyha.pucksystems2.com/schedule/day/league_instance/78964/2019/2/3?subseason=545898\n",
            "https://dmyha.pucksystems2.com/schedule/day/league_instance/78964/2019/2/10?subseason=545898\n",
            "https://dmyha.pucksystems2.com/schedule/day/league_instance/78964/2019/2/17?subseason=545898\n",
            "https://dmyha.pucksystems2.com/schedule/day/league_instance/78964/2019/2/24?subseason=545898\n",
            "https://dmyha.pucksystems2.com/schedule/day/league_instance/78964/2019/3/3?subseason=545898\n",
            "https://dmyha.pucksystems2.com/schedule/day/league_instance/78964/2019/3/10?subseason=545898\n",
            "https://dmyha.pucksystems2.com/schedule/day/league_instance/78964/2019/3/17?subseason=545898\n",
            "https://dmyha.pucksystems2.com/schedule/day/league_instance/78964/2019/3/24?subseason=545898\n",
            "https://dmyha.pucksystems2.com/schedule/day/league_instance/78964/2019/3/31?subseason=545898\n",
            "https://dmyha.pucksystems2.com/schedule/day/league_instance/78964/2019/4/7?subseason=545898\n"
          ],
          "name": "stdout"
        }
      ]
    }
  ]
}