{
  "nbformat": 4,
  "nbformat_minor": 0,
  "metadata": {
    "colab": {
      "name": "ScrapePlayers.ipynb",
      "version": "0.3.2",
      "provenance": [],
      "collapsed_sections": [],
      "include_colab_link": true
    },
    "kernelspec": {
      "name": "python3",
      "display_name": "Python 3"
    }
  },
  "cells": [
    {
      "cell_type": "markdown",
      "metadata": {
        "id": "view-in-github",
        "colab_type": "text"
      },
      "source": [
        "<a href=\"https://colab.research.google.com/github/THansenite/Apophenia_Python/blob/master/ScrapePlayers.ipynb\" target=\"_parent\"><img src=\"https://colab.research.google.com/assets/colab-badge.svg\" alt=\"Open In Colab\"/></a>"
      ]
    },
    {
      "metadata": {
        "id": "pKb-Y8uxqSS0",
        "colab_type": "code",
        "colab": {
          "base_uri": "https://localhost:8080/",
          "height": 119
        },
        "outputId": "d65ca3ab-00b5-4e5b-8906-9b7deab5c754"
      },
      "cell_type": "code",
      "source": [
        "!pip install BeautifulSoup4\n",
        "!pip install requests"
      ],
      "execution_count": 1,
      "outputs": [
        {
          "output_type": "stream",
          "text": [
            "Requirement already satisfied: BeautifulSoup4 in /usr/local/lib/python3.6/dist-packages (4.6.3)\n",
            "Requirement already satisfied: requests in /usr/local/lib/python3.6/dist-packages (2.18.4)\n",
            "Requirement already satisfied: urllib3<1.23,>=1.21.1 in /usr/local/lib/python3.6/dist-packages (from requests) (1.22)\n",
            "Requirement already satisfied: chardet<3.1.0,>=3.0.2 in /usr/local/lib/python3.6/dist-packages (from requests) (3.0.4)\n",
            "Requirement already satisfied: certifi>=2017.4.17 in /usr/local/lib/python3.6/dist-packages (from requests) (2019.3.9)\n",
            "Requirement already satisfied: idna<2.7,>=2.5 in /usr/local/lib/python3.6/dist-packages (from requests) (2.6)\n"
          ],
          "name": "stdout"
        }
      ]
    },
    {
      "metadata": {
        "id": "tOLe7rgZqXb5",
        "colab_type": "code",
        "colab": {
          "base_uri": "https://localhost:8080/",
          "height": 1584
        },
        "outputId": "aea7e46d-c929-496f-ade3-73931f3b8f37"
      },
      "cell_type": "code",
      "source": [
        "import bs4\n",
        "import requests\n",
        "\n",
        "res = requests.get('https://dmyha.pucksystems2.com/stats/league_instance/78964?subseason=545898&tab=league_instance_player_stats&tool=3314837')\n",
        "res.raise_for_status()\n",
        "soup = bs4.BeautifulSoup(res.text)\n",
        "\n",
        "playersEven = soup.findAll(\"tr\", {\"class\": \"even\"})\n",
        "playersOdd = soup.findAll(\"tr\", {\"class\": \"odd\"})\n",
        "\n",
        "playersEvenName = soup.findAll(\"a\", {\"class\": \"\"})\n",
        "playersEvenName\n"
      ],
      "execution_count": 6,
      "outputs": [
        {
          "output_type": "execute_result",
          "data": {
            "text/plain": [
              "[<a href=\"#yieldContent\" style=\"color:#FFF;position:absolute;height:1px;width:1px;left:-9999px;\">skip navigation</a>,\n",
              " <a href=\"http://dmyha.pucksystems2.com/page/show/4444284-cidl-home-2018-19-season-\">Central Iowa D-League</a>,\n",
              " <a data-target=\"player-sm-ice_hockey_skater\" href=\"/stats/league_instance/78964\">Skater</a>,\n",
              " <a data-target=\"player-sm-ice_hockey_goalie\" href=\"/stats/league_instance/78964\">Goalie</a>,\n",
              " <a data-method=\"get\" data-remote=\"true\" href=\"/stats/tab_league_instance_player_stats/78964.js?dir=desc&amp;order_by=hksgm&amp;page=2&amp;stat_module=ice_hockey_skater&amp;subseason=545898\" onclick=\"return false\">2</a>,\n",
              " <a data-method=\"get\" data-remote=\"true\" href=\"/stats/tab_league_instance_player_stats/78964.js?dir=desc&amp;order_by=hksgm&amp;page=3&amp;stat_module=ice_hockey_skater&amp;subseason=545898\" onclick=\"return false\">3</a>,\n",
              " <a data-method=\"get\" data-remote=\"true\" href=\"/stats/tab_league_instance_player_stats/78964.js?dir=desc&amp;order_by=hksgm&amp;page=4&amp;stat_module=ice_hockey_skater&amp;subseason=545898\" onclick=\"return false\">4</a>,\n",
              " <a data-method=\"get\" data-remote=\"true\" href=\"/stats/tab_league_instance_player_stats/78964.js?dir=desc&amp;order_by=hksgm&amp;page=5&amp;stat_module=ice_hockey_skater&amp;subseason=545898\" onclick=\"return false\">5</a>,\n",
              " <a data-method=\"get\" data-remote=\"true\" href=\"/stats/tab_league_instance_player_stats/78964.js?dir=desc&amp;order_by=hksgm&amp;page=6&amp;stat_module=ice_hockey_skater&amp;subseason=545898\" onclick=\"return false\">6</a>,\n",
              " <a data-method=\"get\" data-remote=\"true\" href=\"/stats/tab_league_instance_player_stats/78964.js?dir=desc&amp;order_by=hksgm&amp;page=7&amp;stat_module=ice_hockey_skater&amp;subseason=545898\" onclick=\"return false\">7</a>,\n",
              " <a data-method=\"get\" data-remote=\"true\" href=\"/stats/tab_league_instance_player_stats/78964.js?dir=desc&amp;order_by=hksgm&amp;page=2&amp;stat_module=ice_hockey_skater&amp;subseason=545898\" onclick=\"return false\">Next →</a>,\n",
              " <a class=\"\" href=\"/roster_players/27586207\" title=\"View Jeremy Sandy's Player Profile\">Jeremy Sandy</a>,\n",
              " <a class=\"\" href=\"/roster_players/27586212\" title=\"View Matt Whipps's Player Profile\">Matt Whipps</a>,\n",
              " <a class=\"\" href=\"/roster_players/27585184\" title=\"View J.T. Nutt's Player Profile\">J.T. Nutt</a>,\n",
              " <a class=\"\" href=\"/roster_players/27584858\" title=\"View Jason Wemer's Player Profile\">Jason Wemer</a>,\n",
              " <a class=\"\" href=\"/roster_players/27584859\" title=\"View Kent Forbes's Player Profile\">Kent Forbes</a>,\n",
              " <a class=\"\" href=\"/roster_players/27394060\" title=\"View Timothy Young's Player Profile\">Timothy Young</a>,\n",
              " <a class=\"\" href=\"/roster_players/27585277\" title=\"View Teague Boyd's Player Profile\">Teague Boyd</a>,\n",
              " <a class=\"\" href=\"/roster_players/27584798\" title=\"View Reed Jensen's Player Profile\">Reed Jensen</a>,\n",
              " <a class=\"\" href=\"/roster_players/27586202\" title=\"View Erik Dagenais's Player Profile\">Erik Dagenais</a>,\n",
              " <a class=\"\" href=\"/roster_players/27586326\" title=\"View Jake Brott's Player Profile\">Jake Brott</a>,\n",
              " <a class=\"\" href=\"/roster_players/27585179\" title=\"View Brandon Stageman's Player Profile\">Brandon Stageman</a>,\n",
              " <a class=\"\" href=\"/roster_players/27585181\" title=\"View Charlie Marriott's Player Profile\">Charlie Marriott</a>,\n",
              " <a class=\"\" href=\"/roster_players/27585187\" title=\"View Patrick Samborsky's Player Profile\">Patrick Samborsky</a>,\n",
              " <a class=\"\" href=\"/roster_players/27584989\" title=\"View Dylan Young's Player Profile\">Dylan Young</a>,\n",
              " <a class=\"\" href=\"/roster_players/27584993\" title=\"View Kyle Gray's Player Profile\">Kyle Gray</a>,\n",
              " <a class=\"\" href=\"/roster_players/27585265\" title=\"View Curtis Desselles's Player Profile\">Curtis Desselles</a>,\n",
              " <a class=\"\" href=\"/roster_players/27585268\" title=\"View David Schwenker's Player Profile\">David Schwenker</a>,\n",
              " <a class=\"\" href=\"/roster_players/27585274\" title=\"View Neal Connelly's Player Profile\">Neal Connelly</a>,\n",
              " <a class=\"\" href=\"/roster_players/27584324\" title=\"View Travis White's Player Profile\">Travis White</a>,\n",
              " <a class=\"\" href=\"/roster_players/27427961\" title=\"View Jake Adams's Player Profile\">Jake Adams</a>,\n",
              " <a class=\"\" href=\"/roster_players/27583693\" title=\"View Andrew Majeran's Player Profile\">Andrew Majeran</a>,\n",
              " <a class=\"\" href=\"/roster_players/27583700\" title=\"View Josh Millang's Player Profile\">Josh Millang</a>,\n",
              " <a class=\"\" href=\"/roster_players/27583702\" title=\"View Nathan Reckman's Player Profile\">Nathan Reckman</a>,\n",
              " <a class=\"\" href=\"/roster_players/27583705\" title=\"View Todd Henderson's Player Profile\">Todd Henderson</a>,\n",
              " <a class=\"\" href=\"/roster_players/27584791\" title=\"View Greg Miller's Player Profile\">Greg Miller</a>,\n",
              " <a class=\"\" href=\"/roster_players/27586200\" title=\"View Austin Taylor's Player Profile\">Austin Taylor</a>,\n",
              " <a class=\"\" href=\"/roster_players/27586204\" title=\"View Ian Mathers's Player Profile\">Ian Mathers</a>,\n",
              " <a class=\"\" href=\"/roster_players/27586214\" title=\"View Ross Curnow's Player Profile\">Ross Curnow</a>,\n",
              " <a class=\"\" href=\"/roster_players/27394020\" title=\"View Kevin Coble's Player Profile\">Kevin Coble</a>,\n",
              " <a class=\"\" href=\"/roster_players/27585182\" title=\"View Chris Lightfoot's Player Profile\">Chris Lightfoot</a>,\n",
              " <a data-method=\"get\" data-remote=\"true\" href=\"/stats/tab_league_instance_player_stats/78964.js?dir=desc&amp;order_by=hksgm&amp;page=2&amp;stat_module=ice_hockey_skater&amp;subseason=545898\" onclick=\"return false\">2</a>,\n",
              " <a data-method=\"get\" data-remote=\"true\" href=\"/stats/tab_league_instance_player_stats/78964.js?dir=desc&amp;order_by=hksgm&amp;page=3&amp;stat_module=ice_hockey_skater&amp;subseason=545898\" onclick=\"return false\">3</a>,\n",
              " <a data-method=\"get\" data-remote=\"true\" href=\"/stats/tab_league_instance_player_stats/78964.js?dir=desc&amp;order_by=hksgm&amp;page=4&amp;stat_module=ice_hockey_skater&amp;subseason=545898\" onclick=\"return false\">4</a>,\n",
              " <a data-method=\"get\" data-remote=\"true\" href=\"/stats/tab_league_instance_player_stats/78964.js?dir=desc&amp;order_by=hksgm&amp;page=5&amp;stat_module=ice_hockey_skater&amp;subseason=545898\" onclick=\"return false\">5</a>,\n",
              " <a data-method=\"get\" data-remote=\"true\" href=\"/stats/tab_league_instance_player_stats/78964.js?dir=desc&amp;order_by=hksgm&amp;page=6&amp;stat_module=ice_hockey_skater&amp;subseason=545898\" onclick=\"return false\">6</a>,\n",
              " <a data-method=\"get\" data-remote=\"true\" href=\"/stats/tab_league_instance_player_stats/78964.js?dir=desc&amp;order_by=hksgm&amp;page=7&amp;stat_module=ice_hockey_skater&amp;subseason=545898\" onclick=\"return false\">7</a>,\n",
              " <a data-method=\"get\" data-remote=\"true\" href=\"/stats/tab_league_instance_player_stats/78964.js?dir=desc&amp;order_by=hksgm&amp;page=2&amp;stat_module=ice_hockey_skater&amp;subseason=545898\" onclick=\"return false\">Next →</a>,\n",
              " <a data-method=\"get\" data-remote=\"true\" href=\"/stats/tab_league_instance_player_stats/78964.js?dir=desc&amp;order_by=hkggm&amp;page=2&amp;stat_module=ice_hockey_goalie&amp;subseason=545898\" onclick=\"return false\">2</a>,\n",
              " <a data-method=\"get\" data-remote=\"true\" href=\"/stats/tab_league_instance_player_stats/78964.js?dir=desc&amp;order_by=hkggm&amp;page=2&amp;stat_module=ice_hockey_goalie&amp;subseason=545898\" onclick=\"return false\">Next →</a>,\n",
              " <a class=\"\" href=\"/roster_players/27584800\" title=\"View Samantha Curiel's Player Profile\">Samantha Curiel</a>,\n",
              " <a class=\"\" href=\"/roster_players/27586206\" title=\"View Jake Kellow's Player Profile\">Jake Kellow</a>,\n",
              " <a class=\"\" href=\"/roster_players/27585188\" title=\"View Richard Pentico's Player Profile\">Richard Pentico</a>,\n",
              " <a class=\"\" href=\"/roster_players/27584856\" title=\"View Brian  Higgins's Player Profile\">Brian  Higgins</a>,\n",
              " <a class=\"\" href=\"/roster_players/27584513\" title=\"View Aaron Harris's Player Profile\">Aaron Harris</a>,\n",
              " <a class=\"\" href=\"/roster_players/27584630\" title=\"View Damon Punsalan's Player Profile\">Damon Punsalan</a>,\n",
              " <a class=\"\" href=\"/roster_players/27584046\" title=\"View Craig Fraaken's Player Profile\">Craig Fraaken</a>,\n",
              " <a class=\"\" href=\"/roster_players/27584323\" title=\"View Tony Hansen's Player Profile\">Tony Hansen</a>,\n",
              " <a class=\"\" href=\"/roster_players/27585276\" title=\"View Scott Stofer's Player Profile\">Scott Stofer</a>,\n",
              " <a class=\"\" href=\"/roster_players/27584984\" title=\"View Aaron Inderlied's Player Profile\">Aaron Inderlied</a>,\n",
              " <a class=\"\" href=\"/roster_players/27583703\" title=\"View Nick  Foster's Player Profile\">Nick  Foster</a>,\n",
              " <a class=\"\" href=\"/roster_players/27584192\" title=\"View Dan  Frye's Player Profile\">Dan  Frye</a>,\n",
              " <a class=\"\" href=\"/roster_players/28834090\" title=\"View Craig Fraaken's Player Profile\">Craig Fraaken</a>,\n",
              " <a class=\"\" href=\"/roster_players/30319383\" title=\"View Craig Fraaken's Player Profile\">Craig Fraaken</a>,\n",
              " <a class=\"\" href=\"/roster_players/30316881\" title=\"View Zach Brichetto's Player Profile\">Zach Brichetto</a>,\n",
              " <a class=\"\" href=\"/roster_players/30317540\" title=\"View Zach Brichetto's Player Profile\">Zach Brichetto</a>,\n",
              " <a class=\"\" href=\"/roster_players/30437356\" title=\"View Tony Hansen's Player Profile\">Tony Hansen</a>,\n",
              " <a class=\"\" href=\"/roster_players/30902633\" title=\"View Zachary Brichetto's Player Profile\">Zachary Brichetto</a>,\n",
              " <a class=\"\" href=\"/roster_players/30438412\" title=\"View Rich Pentico's Player Profile\">Rich Pentico</a>,\n",
              " <a class=\"\" href=\"/roster_players/30648073\" title=\"View Tony  Hansen's Player Profile\">Tony  Hansen</a>,\n",
              " <a class=\"\" href=\"/roster_players/30765572\" title=\"View Zack Brichetto's Player Profile\">Zack Brichetto</a>,\n",
              " <a class=\"\" href=\"/roster_players/31010146\" title=\"View Scott Stofer's Player Profile\">Scott Stofer</a>,\n",
              " <a class=\"\" href=\"/roster_players/30885791\" title=\"View rich pentico's Player Profile\">rich pentico</a>,\n",
              " <a class=\"\" href=\"/roster_players/30761024\" title=\"View Tanner Robinson's Player Profile\">Tanner Robinson</a>,\n",
              " <a class=\"\" href=\"/roster_players/30893777\" title=\"View Craig  Fraaken's Player Profile\">Craig  Fraaken</a>,\n",
              " <a class=\"\" href=\"/roster_players/30885773\" title=\"View rich pentico's Player Profile\">rich pentico</a>,\n",
              " <a class=\"\" href=\"/roster_players/31011291\" title=\"View Zach Brichetto's Player Profile\">Zach Brichetto</a>,\n",
              " <a class=\"\" href=\"/roster_players/31010228\" title=\"View Craig  Fraaken's Player Profile\">Craig  Fraaken</a>,\n",
              " <a class=\"\" href=\"/roster_players/30892762\" title=\"View Craig Fraaken's Player Profile\">Craig Fraaken</a>,\n",
              " <a class=\"\" href=\"/roster_players/30889235\" title=\"View nick foster's Player Profile\">nick foster</a>,\n",
              " <a data-method=\"get\" data-remote=\"true\" href=\"/stats/tab_league_instance_player_stats/78964.js?dir=desc&amp;order_by=hkggm&amp;page=2&amp;stat_module=ice_hockey_goalie&amp;subseason=545898\" onclick=\"return false\">2</a>,\n",
              " <a data-method=\"get\" data-remote=\"true\" href=\"/stats/tab_league_instance_player_stats/78964.js?dir=desc&amp;order_by=hkggm&amp;page=2&amp;stat_module=ice_hockey_goalie&amp;subseason=545898\" onclick=\"return false\">Next →</a>,\n",
              " <a href=\"https://community.sportsengine.com/?utm_source=Sitebuilder&amp;utm_medium=Footer&amp;utm_campaign=Community+Internal+Link&amp;utm_term=Footer\" target=\"_blank\">\n",
              "           SportsEngine Community\n",
              "         </a>,\n",
              " <a href=\"https://marketplace.sportsengine.com/?utm_source=Sitebuilder&amp;utm_medium=Footer+Link&amp;utm_campaign=Marketplace+Internal+Links&amp;utm_term=Footer\" target=\"_blank\">\n",
              "           Marketplace\n",
              "         </a>,\n",
              " <a href=\"https://www.sportsengine.com/?utm_source=Sitebuilder&amp;utm_medium=Footer&amp;utm_campaign=SportsEngine+Internal+Link&amp;utm_term=Footer\" onclick=\"javascript:window.location=('https://www.sportsengine.com/?utm_source=Sitebuilder&amp;utm_medium=Footer&amp;utm_campaign=SportsEngine+Internal+Link&amp;utm_term=Footer'); return false;\">\n",
              " <img alt=\"Powered by SportsEngine\" src=\"/logo_images/white_logo.png\" title=\"Click here to learn how SportsEngine can empower your organization!\"/>\n",
              " </a>]"
            ]
          },
          "metadata": {
            "tags": []
          },
          "execution_count": 6
        }
      ]
    }
  ]
}