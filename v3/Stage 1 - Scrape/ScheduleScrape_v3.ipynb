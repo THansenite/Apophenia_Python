{
  "nbformat": 4,
  "nbformat_minor": 0,
  "metadata": {
    "colab": {
      "provenance": []
    },
    "kernelspec": {
      "name": "python3",
      "display_name": "Python 3"
    },
    "language_info": {
      "name": "python"
    }
  },
  "cells": [
    {
      "cell_type": "code",
      "execution_count": 1,
      "metadata": {
        "colab": {
          "base_uri": "https://localhost:8080/"
        },
        "id": "bSZIHXxlZrgz",
        "outputId": "56a1de85-e944-4175-a9a0-91569c953398"
      },
      "outputs": [
        {
          "output_type": "stream",
          "name": "stdout",
          "text": [
            "Requirement already satisfied: BeautifulSoup4 in /usr/local/lib/python3.10/dist-packages (4.12.3)\n",
            "Requirement already satisfied: soupsieve>1.2 in /usr/local/lib/python3.10/dist-packages (from BeautifulSoup4) (2.5)\n",
            "Requirement already satisfied: requests in /usr/local/lib/python3.10/dist-packages (2.31.0)\n",
            "Requirement already satisfied: charset-normalizer<4,>=2 in /usr/local/lib/python3.10/dist-packages (from requests) (3.3.2)\n",
            "Requirement already satisfied: idna<4,>=2.5 in /usr/local/lib/python3.10/dist-packages (from requests) (3.7)\n",
            "Requirement already satisfied: urllib3<3,>=1.21.1 in /usr/local/lib/python3.10/dist-packages (from requests) (2.0.7)\n",
            "Requirement already satisfied: certifi>=2017.4.17 in /usr/local/lib/python3.10/dist-packages (from requests) (2024.6.2)\n"
          ]
        }
      ],
      "source": [
        "!pip install BeautifulSoup4\n",
        "!pip install requests"
      ]
    },
    {
      "cell_type": "code",
      "source": [
        "import requests\n",
        "from bs4 import BeautifulSoup\n",
        "\n",
        "# Fetch the webpage and create a BeautifulSoup object\n",
        "#url = \"https://www.dmyha.com/schedule/league_instance/62688?subseason=453890\"   #2017-18\n",
        "#url = \"https://www.dmyha.com/schedule/league_instance/78964?subseason=545898\"   #2018-19\n",
        "#url = \"https://www.dmyha.com/schedule/league_instance/99610?subseason=623115\"   #2019-20\n",
        "#url = \"https://www.dmyha.com/schedule/league_instance/124096?subseason=697991\"   #2020-21\n",
        "#url = \"https://www.dmyha.com/schedule/league_instance/152917?subseason=779454\"   #2021-22\n",
        "#url = \"https://www.dmyha.com/schedule/league_instance/185332?subseason=858888\"   #2022-23\n",
        "url = \"https://www.dmyha.com/schedule/league_instance/209461?subseason=913844\"   #2023-24\n",
        "\n",
        "\n",
        "soup = BeautifulSoup(requests.get(url).text, 'html.parser')\n",
        "\n",
        "# Find the table element\n",
        "table = soup.find(\"table\", {\"class\": \"statTable\"})\n",
        "\n",
        "# Initialize lists to store header and rows\n",
        "header = []\n",
        "rows = []\n",
        "\n",
        "# Iterate through each row in the table\n",
        "for i, row in enumerate(table.find_all('tr')):\n",
        "    if i == 0:\n",
        "        # Extract headers\n",
        "        header = [el.text.strip() for el in row.find_all('th')]\n",
        "    else:\n",
        "        # Extract data cells in the row\n",
        "        cells = row.find_all('td')\n",
        "        # Extract text from each cell\n",
        "        row_data = [cell.text.strip() for cell in cells]\n",
        "        # Extract URL link from the \"Status\" column, if it exists\n",
        "        status_cell = cells[header.index('Status')] if 'Status' in header else None\n",
        "        if status_cell:\n",
        "            link = status_cell.find('a')['href'] if status_cell.find('a') else None\n",
        "            row_data.append(link)  # Append the link to the row data\n",
        "        else:\n",
        "            row_data.append(None)  # Append None if no link found\n",
        "        rows.append(row_data)  # Append the row data to the rows list\n",
        "\n",
        "# Print the extracted data (for demonstration)\n",
        "print(header)\n",
        "for row in rows:\n",
        "    print(row)"
      ],
      "metadata": {
        "colab": {
          "base_uri": "https://localhost:8080/"
        },
        "id": "CsogZsR0eoig",
        "outputId": "128d5249-1c0e-4917-8c5a-de0f7c2ebbaa"
      },
      "execution_count": 36,
      "outputs": [
        {
          "output_type": "stream",
          "name": "stdout",
          "text": [
            "['Practice', 'Date', 'Visitor', 'V', 'Home', 'H', 'Location', 'Status']\n",
            "['Yes', 'Sun Nov 12', 'Iowa Train\\n (9-7-2)', '-', 'Iowa Bucks\\n (5-11-2)', '-', '', '9:30 AM CST', 'https://www.dmyha.com/game/show/40946074?subseason=913844']\n",
            "['Yes', 'Sun Nov 12', 'No Regretzkys\\n (6-10-2)', '-', 'Bat Hogs\\n (12-4-2)', '-', '', '10:45 AM CST', 'https://www.dmyha.com/game/show/40946086?subseason=913844']\n",
            "['Yes', 'Sun Nov 12', 'Crows\\n (12-2-4)', '-', 'Snapper Tappers\\n (7-6-5)', '-', '', '12:00 PM CST', 'https://www.dmyha.com/game/show/40946110?subseason=913844']\n",
            "['Yes', 'Sun Nov 12', 'Wild Goose\\n (3-11-4)', '-', 'Rented Mules\\n (5-8-5)', '-', '', '1:15 PM CST', 'https://www.dmyha.com/game/show/40946155?subseason=913844']\n",
            "['Yes', 'Sun Nov 12', 'Ice Warriors\\n (9-5-4)', '-', 'Lucky Bulldogs\\n (5-8-5)', '-', '', '2:30 PM CST', 'https://www.dmyha.com/game/show/40946196?subseason=913844']\n",
            "['Yes', 'Sun Nov 12', 'Reapers\\n (5-8-5)', '-', 'Vicious Squirrels\\n (8-6-4)', '-', '', '3:45 PM CST', 'https://www.dmyha.com/game/show/40946270?subseason=913844']\n",
            "['', 'Sun Nov 19', 'Rented Mules', '1', 'Snapper Tappers', '5', '', '', 'https://www.dmyha.com/game/show/40946274?subseason=913844']\n",
            "['', 'Sun Nov 19', 'Wild Goose', '1', 'Crows', '3', '', '', 'https://www.dmyha.com/game/show/40946278?subseason=913844']\n",
            "['', 'Sun Nov 19', 'Vicious Squirrels', '0', 'Lucky Bulldogs', '1', '', '', 'https://www.dmyha.com/game/show/40946281?subseason=913844']\n",
            "['', 'Sun Nov 19', 'Reapers', '0', 'Ice Warriors', '0', '', '', 'https://www.dmyha.com/game/show/40946283?subseason=913844']\n",
            "['', 'Sun Nov 19', 'Bat Hogs', '6', 'Iowa Bucks', '2', '', '', 'https://www.dmyha.com/game/show/40946285?subseason=913844']\n",
            "['', 'Sun Nov 19', 'No Regretzkys', '2', 'Iowa Train', '4', '', '', 'https://www.dmyha.com/game/show/40946289?subseason=913844']\n",
            "['', 'Sun Nov 26', 'No Regretzkys', '5', 'Iowa Bucks', '5', '', '', 'https://www.dmyha.com/game/show/40946336?subseason=913844']\n",
            "['', 'Sun Nov 26', 'Bat Hogs', '5', 'Iowa Train', '5', '', '', 'https://www.dmyha.com/game/show/40946344?subseason=913844']\n",
            "['', 'Sun Nov 26', 'Wild Goose', '2', 'Snapper Tappers', '2', '', '', 'https://www.dmyha.com/game/show/40946371?subseason=913844']\n",
            "['', 'Sun Nov 26', 'Rented Mules', '3', 'Crows', '4', '', '', 'https://www.dmyha.com/game/show/40946373?subseason=913844']\n",
            "['', 'Sun Nov 26', 'Ice Warriors', '3', 'Lucky Bulldogs', '2', '', '', 'https://www.dmyha.com/game/show/40946376?subseason=913844']\n",
            "['', 'Sun Nov 26', 'Reapers', '4', 'Vicious Squirrels', '5', '', '', 'https://www.dmyha.com/game/show/40946377?subseason=913844']\n",
            "['', 'Sun Dec  3', 'Reapers', '2', 'Lucky Bulldogs', '1', '', '', 'https://www.dmyha.com/game/show/40946515?subseason=913844']\n",
            "['', 'Sun Dec  3', 'Ice Warriors', '2', 'Vicious Squirrels', '5', '', '', 'https://www.dmyha.com/game/show/40946518?subseason=913844']\n",
            "['', 'Sun Dec  3', 'Bat Hogs', '8', 'No Regretzkys', '3', '', '', 'https://www.dmyha.com/game/show/40946520?subseason=913844']\n",
            "['', 'Sun Dec  3', 'Iowa Bucks', '6', 'Iowa Train', '10', '', '', 'https://www.dmyha.com/game/show/40946522?subseason=913844']\n",
            "['', 'Sun Dec  3', 'Rented Mules', '1', 'Wild Goose', '2', '', '', 'https://www.dmyha.com/game/show/40946531?subseason=913844']\n",
            "['', 'Sun Dec  3', 'Snapper Tappers', '4', 'Crows', '4', '', '', 'https://www.dmyha.com/game/show/40946533?subseason=913844']\n",
            "['', 'Sun Dec 10', 'Crows', '8', 'Wild Goose', '1', '', '', 'https://www.dmyha.com/game/show/40946550?subseason=913844']\n",
            "['', 'Sun Dec 10', 'Snapper Tappers', '4', 'Rented Mules', '4', '', '', 'https://www.dmyha.com/game/show/40946552?subseason=913844']\n",
            "['', 'Sun Dec 10', 'Ice Warriors', '4', 'Reapers', '1', '', '', 'https://www.dmyha.com/game/show/40946555?subseason=913844']\n",
            "['', 'Sun Dec 10', 'Lucky Bulldogs', '3', 'Vicious Squirrels', '5', '', '', 'https://www.dmyha.com/game/show/40946557?subseason=913844']\n",
            "['', 'Sun Dec 10', 'Iowa Train', '6', 'No Regretzkys', '3', '', '', 'https://www.dmyha.com/game/show/40946560?subseason=913844']\n",
            "['', 'Sun Dec 10', 'Iowa Bucks', '2', 'Bat Hogs', '4', '', '', 'https://www.dmyha.com/game/show/40946561?subseason=913844']\n",
            "['', 'Sun Dec 17', 'Iowa Bucks', '5', 'No Regretzkys', '8', '', '', 'https://www.dmyha.com/game/show/40946568?subseason=913844']\n",
            "['', 'Sun Dec 17', 'Iowa Train', '4', 'Bat Hogs', '3', '', '', 'https://www.dmyha.com/game/show/40946571?subseason=913844']\n",
            "['', 'Sun Dec 17', 'Snapper Tappers', '5', 'Wild Goose', '2', '', '', 'https://www.dmyha.com/game/show/40946572?subseason=913844']\n",
            "['', 'Sun Dec 17', 'Crows', '4', 'Rented Mules', '3', '', '', 'https://www.dmyha.com/game/show/40946575?subseason=913844']\n",
            "['', 'Sun Dec 17', 'Vicious Squirrels', '3', 'Reapers', '4', '', '', 'https://www.dmyha.com/game/show/40946576?subseason=913844']\n",
            "['', 'Sun Dec 17', 'Lucky Bulldogs', '3', 'Ice Warriors', '3', '', '', 'https://www.dmyha.com/game/show/40946580?subseason=913844']\n",
            "['', 'Sun Jan  7', 'Lucky Bulldogs', '3', 'Reapers', '3', '', '', 'https://www.dmyha.com/game/show/40946679?subseason=913844']\n",
            "['', 'Sun Jan  7', 'Vicious Squirrels', '1', 'Ice Warriors', '5', '', '', 'https://www.dmyha.com/game/show/40946704?subseason=913844']\n",
            "['', 'Sun Jan  7', 'Iowa Train', '7', 'Iowa Bucks', '2', '', '', 'https://www.dmyha.com/game/show/40946746?subseason=913844']\n",
            "['', 'Sun Jan  7', 'No Regretzkys', '1', 'Bat Hogs', '3', '', '', 'https://www.dmyha.com/game/show/40946749?subseason=913844']\n",
            "['', 'Sun Jan  7', 'Crows', '3', 'Snapper Tappers', '1', '', '', 'https://www.dmyha.com/game/show/40946752?subseason=913844']\n",
            "['', 'Sun Jan  7', 'Wild Goose', '5', 'Rented Mules', '6', '', '', 'https://www.dmyha.com/game/show/40946753?subseason=913844']\n",
            "['', 'Sun Jan 14', 'Bat Hogs', '10', 'Iowa Bucks', '5', '', '', 'https://www.dmyha.com/game/show/40946781?subseason=913844']\n",
            "['', 'Sun Jan 14', 'No Regretzkys', '8', 'Iowa Train', '3', '', '', 'https://www.dmyha.com/game/show/40946783?subseason=913844']\n",
            "['', 'Sun Jan 14', 'Rented Mules', '6', 'Snapper Tappers', '4', '', '', 'https://www.dmyha.com/game/show/40946774?subseason=913844']\n",
            "['', 'Sun Jan 14', 'Wild Goose', '3', 'Crows', '4', '', '', 'https://www.dmyha.com/game/show/40946777?subseason=913844']\n",
            "['', 'Sun Jan 14', 'Vicious Squirrels', '2', 'Lucky Bulldogs', '1', '', '', 'https://www.dmyha.com/game/show/40946779?subseason=913844']\n",
            "['', 'Sun Jan 14', 'Reapers', '4', 'Ice Warriors', '4', '', '', 'https://www.dmyha.com/game/show/40946780?subseason=913844']\n",
            "['', 'Sun Jan 21', 'Bat Hogs', '7', 'Iowa Train', '4', '', '', 'https://www.dmyha.com/game/show/40946982?subseason=913844']\n",
            "['', 'Sun Jan 21', 'No Regretzkys', '4', 'Iowa Bucks', '2', '', '', 'https://www.dmyha.com/game/show/40946984?subseason=913844']\n",
            "['', 'Sun Jan 21', 'Rented Mules', '2', 'Crows', '4', '', '', 'https://www.dmyha.com/game/show/40946985?subseason=913844']\n",
            "['', 'Sun Jan 21', 'Wild Goose', '2', 'Snapper Tappers', '3', '', '', 'https://www.dmyha.com/game/show/40946988?subseason=913844']\n",
            "['', 'Sun Jan 21', 'Ice Warriors', '0', 'Lucky Bulldogs', '8', '', '', 'https://www.dmyha.com/game/show/40946990?subseason=913844']\n",
            "['', 'Sun Jan 21', 'Reapers', '2', 'Vicious Squirrels', '5', '', '', 'https://www.dmyha.com/game/show/40946992?subseason=913844']\n",
            "['', 'Sun Jan 28', 'Reapers', '6', 'Lucky Bulldogs', '2', '', '', 'https://www.dmyha.com/game/show/40946996?subseason=913844']\n",
            "['', 'Sun Jan 28', 'Ice Warriors', '3', 'Vicious Squirrels', '5', '', '', 'https://www.dmyha.com/game/show/40947001?subseason=913844']\n",
            "['', 'Sun Jan 28', 'Bat Hogs', '4', 'No Regretzkys', '1', '', '', 'https://www.dmyha.com/game/show/40947003?subseason=913844']\n",
            "['', 'Sun Jan 28', 'Iowa Bucks', '3', 'Iowa Train', '3', '', '', 'https://www.dmyha.com/game/show/40947005?subseason=913844']\n",
            "['', 'Sun Jan 28', 'Rented Mules', '2', 'Wild Goose', '2', '', '', 'https://www.dmyha.com/game/show/40947008?subseason=913844']\n",
            "['', 'Sun Jan 28', 'Snapper Tappers', '4', 'Crows', '5', '', '', 'https://www.dmyha.com/game/show/40947009?subseason=913844']\n",
            "['', 'Sun Feb  4', 'Crows', '3', 'Wild Goose', '0', '', '', 'https://www.dmyha.com/game/show/40947012?subseason=913844']\n",
            "['', 'Sun Feb  4', 'Snapper Tappers', '9', 'Rented Mules', '2', '', '', 'https://www.dmyha.com/game/show/40947014?subseason=913844']\n",
            "['', 'Sun Feb  4', 'Ice Warriors', '4', 'Reapers', '4', '', '', 'https://www.dmyha.com/game/show/40947016?subseason=913844']\n",
            "['', 'Sun Feb  4', 'Lucky Bulldogs', '3', 'Vicious Squirrels', '3', '', '', 'https://www.dmyha.com/game/show/40947018?subseason=913844']\n",
            "['', 'Sun Feb  4', 'Iowa Train', '2', 'No Regretzkys', '8', '', '', 'https://www.dmyha.com/game/show/40947021?subseason=913844']\n",
            "['', 'Sun Feb  4', 'Iowa Bucks', '1', 'Bat Hogs', '7', '', '', 'https://www.dmyha.com/game/show/40947023?subseason=913844']\n",
            "['', 'Sun Feb 11', 'Iowa Train', '1', 'Bat Hogs', '7', '', '', 'https://www.dmyha.com/game/show/40947026?subseason=913844']\n",
            "['', 'Sun Feb 11', 'Iowa Bucks', '3', 'No Regretzkys', '8', '', '', 'https://www.dmyha.com/game/show/40947030?subseason=913844']\n",
            "['', 'Sun Feb 11', 'Crows', '4', 'Rented Mules', '4', '', '', 'https://www.dmyha.com/game/show/40947032?subseason=913844']\n",
            "['', 'Sun Feb 11', 'Snapper Tappers', '5', 'Wild Goose', '3', '', '', 'https://www.dmyha.com/game/show/40947034?subseason=913844']\n",
            "['', 'Sun Feb 11', 'Vicious Squirrels', '2', 'Reapers', '2', '', '', 'https://www.dmyha.com/game/show/40947037?subseason=913844']\n",
            "['', 'Sun Feb 11', 'Lucky Bulldogs', '1', 'Ice Warriors', '2', '', '', 'https://www.dmyha.com/game/show/40947039?subseason=913844']\n",
            "['', 'Sun Feb 18', 'Lucky Bulldogs', '3', 'Reapers', '2', '', '', 'https://www.dmyha.com/game/show/40947272?subseason=913844']\n",
            "['', 'Sun Feb 18', 'Vicious Squirrels', '1', 'Ice Warriors', '2', '', '', 'https://www.dmyha.com/game/show/40947274?subseason=913844']\n",
            "['', 'Sun Feb 18', 'Iowa Train', '8', 'Iowa Bucks', '6', '', '', 'https://www.dmyha.com/game/show/40947277?subseason=913844']\n",
            "['', 'Sun Feb 18', 'No Regretzkys', '3', 'Bat Hogs', '3', '', '', 'https://www.dmyha.com/game/show/40947279?subseason=913844']\n",
            "['', 'Sun Feb 18', 'Crows', '3', 'Snapper Tappers', '3', '', '', 'https://www.dmyha.com/game/show/40947282?subseason=913844']\n",
            "['', 'Sun Feb 18', 'Wild Goose', '3', 'Rented Mules', '1', '', '', 'https://www.dmyha.com/game/show/40947287?subseason=913844']\n",
            "['', 'Sun Feb 25', 'Rented Mules', '2', 'Snapper Tappers', '4', '', '', 'https://www.dmyha.com/game/show/40947297?subseason=913844']\n",
            "['', 'Sun Feb 25', 'Wild Goose', '0', 'Crows', '2', '', '', 'https://www.dmyha.com/game/show/40947300?subseason=913844']\n",
            "['', 'Sun Feb 25', 'Vicious Squirrels', '2', 'Lucky Bulldogs', '2', '', '', 'https://www.dmyha.com/game/show/40947301?subseason=913844']\n",
            "['', 'Sun Feb 25', 'Reapers', '0', 'Ice Warriors', '1', '', '', 'https://www.dmyha.com/game/show/40947307?subseason=913844']\n",
            "['', 'Sun Feb 25', 'Bat Hogs', '1', 'Iowa Bucks', '2', '', '', 'https://www.dmyha.com/game/show/40947315?subseason=913844']\n",
            "['', 'Sun Feb 25', 'No Regretzkys', '2', 'Iowa Train', '4', '', '', 'https://www.dmyha.com/game/show/40947318?subseason=913844']\n",
            "['', 'Sun Mar  3', 'No Regretzkys', '6', 'Iowa Bucks', '2', '', '', 'https://www.dmyha.com/game/show/40947324?subseason=913844']\n",
            "['', 'Sun Mar  3', 'Bat Hogs', '1', 'Iowa Train', '4', '', '', 'https://www.dmyha.com/game/show/40947328?subseason=913844']\n",
            "['', 'Sun Mar  3', 'Wild Goose', '3', 'Snapper Tappers', '1', '', '', 'https://www.dmyha.com/game/show/40947332?subseason=913844']\n",
            "['', 'Sun Mar  3', 'Rented Mules', '3', 'Crows', '1', '', '', 'https://www.dmyha.com/game/show/40947333?subseason=913844']\n",
            "['', 'Sun Mar  3', 'Ice Warriors', '1', 'Lucky Bulldogs', '3', '', '', 'https://www.dmyha.com/game/show/40947337?subseason=913844']\n",
            "['', 'Sun Mar  3', 'Reapers', '2', 'Vicious Squirrels', '3', '', '', 'https://www.dmyha.com/game/show/40947340?subseason=913844']\n",
            "['', 'Sun Mar 10', 'Crows', '3', 'Wild Goose', '2', '', '', 'https://www.dmyha.com/game/show/40947342?subseason=913844']\n",
            "['', 'Sun Mar 10', 'Snapper Tappers', '3', 'Rented Mules', '4', '', '', 'https://www.dmyha.com/game/show/40947343?subseason=913844']\n",
            "['', 'Sun Mar 10', 'Reapers', '4', 'Lucky Bulldogs', '0', '', '', 'https://www.dmyha.com/game/show/40947344?subseason=913844']\n",
            "['', 'Sun Mar 10', 'Ice Warriors', '2', 'Vicious Squirrels', '1', '', '', 'https://www.dmyha.com/game/show/40947347?subseason=913844']\n",
            "['', 'Sun Mar 10', 'Iowa Train', '10', 'No Regretzkys', '5', '', '', 'https://www.dmyha.com/game/show/40947349?subseason=913844']\n",
            "['', 'Sun Mar 10', 'Iowa Bucks', '6', 'Bat Hogs', '5', '', '', 'https://www.dmyha.com/game/show/40947350?subseason=913844']\n",
            "['', 'Sun Mar 17', 'Iowa Bucks', '4', 'No Regretzkys', '3', '', '', 'https://www.dmyha.com/game/show/40947360?subseason=913844']\n",
            "['', 'Sun Mar 17', 'Iowa Train', '3', 'Bat Hogs', '6', '', '', 'https://www.dmyha.com/game/show/40947363?subseason=913844']\n",
            "['', 'Sun Mar 17', 'Snapper Tappers', '3', 'Wild Goose', '3', '', '', 'https://www.dmyha.com/game/show/40947364?subseason=913844']\n",
            "['', 'Sun Mar 17', 'Crows', '4', 'Rented Mules', '4', '', '', 'https://www.dmyha.com/game/show/40947366?subseason=913844']\n",
            "['', 'Sun Mar 17', 'Ice Warriors', '6', 'Reapers', '1', '', '', 'https://www.dmyha.com/game/show/40947367?subseason=913844']\n",
            "['', 'Sun Mar 17', 'Lucky Bulldogs', '4', 'Vicious Squirrels', '4', '', '', 'https://www.dmyha.com/game/show/40947368?subseason=913844']\n",
            "['', 'Sun Mar 24', 'Vicious Squirrels', '5', 'Reapers', '3', '', '', 'https://www.dmyha.com/game/show/40947376?subseason=913844']\n",
            "['', 'Sun Mar 24', 'Lucky Bulldogs', '2', 'Ice Warriors', '1', '', '', 'https://www.dmyha.com/game/show/40947378?subseason=913844']\n",
            "['', 'Sun Mar 24', 'Iowa Train', '3', 'Iowa Bucks', '5', '', '', 'https://www.dmyha.com/game/show/40947381?subseason=913844']\n",
            "['', 'Sun Mar 24', 'No Regretzkys', '2', 'Bat Hogs', '5', '', '', 'https://www.dmyha.com/game/show/40947383?subseason=913844']\n",
            "['', 'Sun Mar 24', 'Crows', '3', 'Snapper Tappers', '1', '', '', 'https://www.dmyha.com/game/show/40947385?subseason=913844']\n",
            "['', 'Sun Mar 24', 'Wild Goose', '3', 'Rented Mules', '3', '', '', 'https://www.dmyha.com/game/show/40947387?subseason=913844']\n",
            "['', 'Sun Apr  7', 'Rented Mules', '7', 'Wild Goose', '3', '', '', 'https://www.dmyha.com/game/show/40947395?subseason=913844']\n",
            "['', 'Sun Apr  7', 'Crows', '3', 'Snapper Tappers', '5', '', '', 'https://www.dmyha.com/game/show/40947396?subseason=913844']\n",
            "['', 'Sun Apr  7', 'Lucky Bulldogs', '0', 'Reapers', '1', '', '', 'https://www.dmyha.com/game/show/40947399?subseason=913844']\n",
            "['', 'Sun Apr  7', 'Vicious Squirrels', '2', 'Ice Warriors', '3', '', '', 'https://www.dmyha.com/game/show/40947401?subseason=913844']\n",
            "['', 'Sun Apr  7', 'No Regretzkys', '3', 'Bat Hogs', '4', '', '', 'https://www.dmyha.com/game/show/40947403?subseason=913844']\n",
            "['', 'Sun Apr  7', 'Iowa Train', '2', 'Iowa Bucks', '3', '', '', 'https://www.dmyha.com/game/show/40947407?subseason=913844']\n",
            "['', 'Sun Apr 14', 'Reapers', '1', 'Ice Warriors', '3', '', '', 'https://www.dmyha.com/game/show/42019712?subseason=913844']\n",
            "['', 'Sun Apr 14', 'Lucky Bulldogs', '2', 'Vicious Squirrels', '1', '', '', 'https://www.dmyha.com/game/show/42019719?subseason=913844']\n",
            "['', 'Sun Apr 14', 'Wild Goose', '3', 'Crows', '2', '', '', 'https://www.dmyha.com/game/show/42019722?subseason=913844']\n",
            "['', 'Sun Apr 14', 'Rented Mules', '3', 'Snapper Tappers', '4', '', '', 'https://www.dmyha.com/game/show/42019727?subseason=913844']\n",
            "['', 'Sun Apr 14', 'Iowa Bucks', '1', 'Bat Hogs', '7', '', '', 'https://www.dmyha.com/game/show/42019729?subseason=913844']\n",
            "['', 'Sun Apr 14', 'No Regretzkys', '7', 'Iowa Train', '6', '', '', 'https://www.dmyha.com/game/show/42019731?subseason=913844']\n",
            "['', 'Sun Apr 21', 'No Regretzkys', '3', 'Bat Hogs', '2', '', '', 'https://www.dmyha.com/game/show/42123260?subseason=913844']\n",
            "['', 'Sun Apr 21', 'Iowa Bucks', '1', 'Iowa Train', '8', '', '', 'https://www.dmyha.com/game/show/42123283?subseason=913844']\n",
            "['', 'Sun Apr 21', 'Lucky Bulldogs', '2', 'Ice Warriors', '3', '', '', 'https://www.dmyha.com/game/show/42121956?subseason=913844']\n",
            "['', 'Sun Apr 21', 'Reapers', '5', 'Vicious Squirrels', '2', '', '', 'https://www.dmyha.com/game/show/42121957?subseason=913844']\n",
            "['', 'Sun Apr 21', 'Wild Goose', '4', 'Snapper Tappers', '3', '', '', 'https://www.dmyha.com/game/show/42123308?subseason=913844']\n",
            "['', 'Sun Apr 21', 'Rented Mules', '5', 'Crows', '2', '', '', 'https://www.dmyha.com/game/show/42123318?subseason=913844']\n",
            "['Y', 'Sun Apr 28', 'Vicious Squirrels\\n (8-6-4)', '-', 'Ice Warriors\\n (9-5-4)', '-', '', '9:00 AM CDT', 'https://www.dmyha.com/game/show/42207277?subseason=913844']\n",
            "['', 'Sun Apr 28', 'Rented Mules', '6', 'Snapper Tappers', '5', '', '', 'https://www.dmyha.com/game/show/42207343?subseason=913844']\n",
            "['', 'Sun Apr 28', 'Iowa Train', '2', 'Bat Hogs', '4', '', '', 'https://www.dmyha.com/game/show/42207377?subseason=913844']\n",
            "['', 'Sun Apr 28', 'Reapers', '1', 'Lucky Bulldogs', '0', '', '', 'https://www.dmyha.com/game/show/42207406?subseason=913844']\n",
            "['Y', 'Sun Apr 28', 'Wild Goose\\n (3-11-4)', '-', 'Crows\\n (12-2-4)', '-', '', '3:00 PM CDT', 'https://www.dmyha.com/game/show/42207488?subseason=913844']\n",
            "['Y', 'Sun Apr 28', 'Iowa Bucks\\n (5-11-2)', '-', 'No Regretzkys\\n (6-10-2)', '-', '', '4:30 PM CDT', 'https://www.dmyha.com/game/show/42207532?subseason=913844']\n",
            "['', 'Sun May  5', 'Lucky Bulldogs', '3', 'Vicious Squirrels', '2', '', '', 'https://www.dmyha.com/game/show/42278876?subseason=913844']\n",
            "['', 'Sun May  5', 'Snapper Tappers', '3', 'Crows', '2', '', '', 'https://www.dmyha.com/game/show/42278882?subseason=913844']\n",
            "['', 'Sun May  5', 'Iowa Bucks', '1', 'Iowa Train', '0', '', '', 'https://www.dmyha.com/game/show/42278883?subseason=913844']\n",
            "['', 'Sun May  5', 'Reapers', '2', 'Ice Warriors', '1', '', '', 'https://www.dmyha.com/game/show/42278887?subseason=913844']\n",
            "['', 'Sun May  5', 'Wild Goose', '0', 'Rented Mules', '4', '', '', 'https://www.dmyha.com/game/show/42278890?subseason=913844']\n",
            "['', 'Sun May  5', 'No Regretzkys', '3', 'Bat Hogs', '4', '', '', 'https://www.dmyha.com/game/show/42278895?subseason=913844']\n"
          ]
        }
      ]
    },
    {
      "cell_type": "code",
      "source": [
        "print(rows[1])"
      ],
      "metadata": {
        "colab": {
          "base_uri": "https://localhost:8080/"
        },
        "id": "J4wQbaFOft4e",
        "outputId": "05da5dc5-cfe2-46ef-ed68-105979d39648"
      },
      "execution_count": 37,
      "outputs": [
        {
          "output_type": "stream",
          "name": "stdout",
          "text": [
            "['Yes', 'Sun Nov 12', 'No Regretzkys\\n (6-10-2)', '-', 'Bat Hogs\\n (12-4-2)', '-', '', '10:45 AM CST', 'https://www.dmyha.com/game/show/40946086?subseason=913844']\n"
          ]
        }
      ]
    },
    {
      "cell_type": "code",
      "source": [
        "import pandas as pd\n",
        "from google.colab import files\n",
        "\n",
        "df = pd.DataFrame(rows)\n",
        "\n",
        "# Write the DataFrame to a CSV file\n",
        "csv_file = 'example_data.csv'\n",
        "df.to_csv(csv_file, index=False)\n",
        "\n",
        "# Download the CSV file\n",
        "files.download(csv_file)"
      ],
      "metadata": {
        "colab": {
          "base_uri": "https://localhost:8080/",
          "height": 17
        },
        "id": "_H_AuyeGgwdq",
        "outputId": "6521e66c-cc83-4fdd-9615-1b64157a7b54"
      },
      "execution_count": 38,
      "outputs": [
        {
          "output_type": "display_data",
          "data": {
            "text/plain": [
              "<IPython.core.display.Javascript object>"
            ],
            "application/javascript": [
              "\n",
              "    async function download(id, filename, size) {\n",
              "      if (!google.colab.kernel.accessAllowed) {\n",
              "        return;\n",
              "      }\n",
              "      const div = document.createElement('div');\n",
              "      const label = document.createElement('label');\n",
              "      label.textContent = `Downloading \"${filename}\": `;\n",
              "      div.appendChild(label);\n",
              "      const progress = document.createElement('progress');\n",
              "      progress.max = size;\n",
              "      div.appendChild(progress);\n",
              "      document.body.appendChild(div);\n",
              "\n",
              "      const buffers = [];\n",
              "      let downloaded = 0;\n",
              "\n",
              "      const channel = await google.colab.kernel.comms.open(id);\n",
              "      // Send a message to notify the kernel that we're ready.\n",
              "      channel.send({})\n",
              "\n",
              "      for await (const message of channel.messages) {\n",
              "        // Send a message to notify the kernel that we're ready.\n",
              "        channel.send({})\n",
              "        if (message.buffers) {\n",
              "          for (const buffer of message.buffers) {\n",
              "            buffers.push(buffer);\n",
              "            downloaded += buffer.byteLength;\n",
              "            progress.value = downloaded;\n",
              "          }\n",
              "        }\n",
              "      }\n",
              "      const blob = new Blob(buffers, {type: 'application/binary'});\n",
              "      const a = document.createElement('a');\n",
              "      a.href = window.URL.createObjectURL(blob);\n",
              "      a.download = filename;\n",
              "      div.appendChild(a);\n",
              "      a.click();\n",
              "      div.remove();\n",
              "    }\n",
              "  "
            ]
          },
          "metadata": {}
        },
        {
          "output_type": "display_data",
          "data": {
            "text/plain": [
              "<IPython.core.display.Javascript object>"
            ],
            "application/javascript": [
              "download(\"download_224d089d-a7d2-445a-b367-96ba557aff30\", \"example_data.csv\", 14173)"
            ]
          },
          "metadata": {}
        }
      ]
    }
  ]
}